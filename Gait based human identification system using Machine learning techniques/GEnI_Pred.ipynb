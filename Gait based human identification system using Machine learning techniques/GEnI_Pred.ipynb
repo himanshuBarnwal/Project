{
 "cells": [
  {
   "cell_type": "code",
   "execution_count": 1,
   "id": "350a6be8",
   "metadata": {},
   "outputs": [],
   "source": [
    "# !pip install scikit-image\n",
    "import pandas as pd\n",
    "from skimage.feature import hog\n",
    "import glob,os,cv2 as cv\n",
    "import numpy as np "
   ]
  },
  {
   "cell_type": "code",
   "execution_count": 2,
   "id": "4735d393",
   "metadata": {},
   "outputs": [],
   "source": [
    "train_data =[]\n",
    "train_labels =[]"
   ]
  },
  {
   "cell_type": "code",
   "execution_count": 3,
   "id": "e5486885",
   "metadata": {},
   "outputs": [],
   "source": [
    "person = ['001','002','003','004','005','006','007','008','009','010']\n",
    "orientation_list = ['nm-01','nm-02','nm-03','nm-04','nm-05','nm-06']\n",
    "# list = ['000','018','036','054','072','090','108','126','144','162','180']\n",
    "\n",
    "for per in person:\n",
    "    for orl in orientation_list:\n",
    "        folderPath = f\"C:\\\\Users\\\\mritu\\\\OneDrive\\\\Desktop\\\\MAJOR PROJECT\\\\b_tech\\\\b_tech\\\\{per}\\\\{orl}\"\n",
    "        if not os.path.exists(folderPath):\n",
    "            continue\n",
    "           \n",
    "        basePath = f\"{folderPath}\\\\GENI_new\"\n",
    "        ext1 = \"\\\\*.png\"\n",
    "        file1 = f\"{basePath}{ext1}\"\n",
    "        imgPath = glob.glob(file1)\n",
    "        images = [cv.imread(image,0) for image in imgPath]\n",
    "\n",
    "        for im in images:\n",
    "#             fd = cv.imread(im,0)\n",
    "#           fd = cv2.resize(fd,(240,240))\n",
    "            fd = hog(im,orientations=9,pixels_per_cell=(8,8),visualize=False,cells_per_block=(2,2))\n",
    "            train_data.append(fd)\n",
    "            train_labels.append(per)\n",
    "\n",
    "           \n",
    "          \n",
    "#            path = f\"C:\\\\Users\\\\mritu\\\\OneDrive\\\\Desktop\\\\MAJOR PROJECT\\\\b_tech\\\\b_tech\\\\{per}\\\\{orl}\\\\GENI_new\\\\{imName}\"\n",
    "#  imName = f\"GENI_{per}_{orl}_{i}.png\"\n",
    "#            cv.imwrite(path,res)"
   ]
  },
  {
   "cell_type": "code",
   "execution_count": 4,
   "id": "263ac2cf",
   "metadata": {},
   "outputs": [],
   "source": [
    "test_data = []\n",
    "test_labels = []\n",
    "person = ['001','002','003','004','005','006','007','008','009','010']\n",
    "orientation_list = ['bg-01','bg-02','cl-01','cl-02']\n",
    "# list = ['000','018','036','054','072','090','108','126','144','162','180']\n",
    "\n",
    "for per in person:\n",
    "    for orl in orientation_list:\n",
    "        folderPath = f\"C:\\\\Users\\\\mritu\\\\OneDrive\\\\Desktop\\\\MAJOR PROJECT\\\\b_tech\\\\b_tech\\\\{per}\\\\{orl}\"\n",
    "        if not os.path.exists(folderPath):\n",
    "            continue\n",
    "           \n",
    "        basePath = f\"{folderPath}\\\\GENI_new\"\n",
    "        ext1 = \"\\\\*.png\"\n",
    "        file1 = f\"{basePath}{ext1}\"\n",
    "        imgPath = glob.glob(file1)\n",
    "        images = [cv.imread(image,0) for image in imgPath]\n",
    "\n",
    "        for im in images:\n",
    "            fd = hog(im,orientations=9,pixels_per_cell=(8,8),visualize=False,cells_per_block=(2,2))\n",
    "            test_data.append(fd)\n",
    "            test_labels.append(per)"
   ]
  },
  {
   "cell_type": "code",
   "execution_count": 5,
   "id": "546fb3ff",
   "metadata": {},
   "outputs": [
    {
     "data": {
      "text/plain": [
       "(655, 30276)"
      ]
     },
     "execution_count": 5,
     "metadata": {},
     "output_type": "execute_result"
    }
   ],
   "source": [
    "train_data = np.array(train_data)\n",
    "train_labels = np.array(train_labels)\n",
    "train_data.shape"
   ]
  },
  {
   "cell_type": "code",
   "execution_count": 6,
   "id": "0697ac19",
   "metadata": {},
   "outputs": [
    {
     "data": {
      "text/plain": [
       "(427, 30276)"
      ]
     },
     "execution_count": 6,
     "metadata": {},
     "output_type": "execute_result"
    }
   ],
   "source": [
    "test_data = np.array(test_data)\n",
    "test_labels = np.array(test_labels)\n",
    "test_data.shape"
   ]
  },
  {
   "cell_type": "code",
   "execution_count": 7,
   "id": "37b56c8a",
   "metadata": {},
   "outputs": [
    {
     "name": "stdout",
     "output_type": "stream",
     "text": [
      "(1082, 30276)\n",
      "(1082,)\n"
     ]
    }
   ],
   "source": [
    "data = np.concatenate((train_data, test_data), axis=0)\n",
    "label = np.append(train_labels, test_labels)\n",
    "print(data.shape)\n",
    "print(label.shape)"
   ]
  },
  {
   "cell_type": "code",
   "execution_count": 8,
   "id": "65876056",
   "metadata": {},
   "outputs": [],
   "source": [
    "from sklearn.decomposition import PCA\n",
    "pca1 = PCA(n_components=200)\n",
    "principalComponents = pca1.fit_transform(data)\n",
    "principal_df = pd.DataFrame(data = principalComponents, columns = np.arange(1,201).astype(str))"
   ]
  },
  {
   "cell_type": "code",
   "execution_count": 9,
   "id": "2b5bad12",
   "metadata": {},
   "outputs": [
    {
     "name": "stdout",
     "output_type": "stream",
     "text": [
      "(1082, 200)\n"
     ]
    }
   ],
   "source": [
    "print(principal_df.shape)"
   ]
  },
  {
   "cell_type": "code",
   "execution_count": 10,
   "id": "81666d20",
   "metadata": {},
   "outputs": [],
   "source": [
    "import pandas_profiling"
   ]
  },
  {
   "cell_type": "code",
   "execution_count": 11,
   "id": "c1f4eb7d",
   "metadata": {},
   "outputs": [],
   "source": [
    "# principal_df.profile_report()"
   ]
  },
  {
   "cell_type": "code",
   "execution_count": 12,
   "id": "ece45dce",
   "metadata": {
    "scrolled": true
   },
   "outputs": [
    {
     "data": {
      "text/plain": [
       "(655, 30276)"
      ]
     },
     "execution_count": 12,
     "metadata": {},
     "output_type": "execute_result"
    }
   ],
   "source": [
    "train_data.shape"
   ]
  },
  {
   "cell_type": "code",
   "execution_count": 13,
   "id": "566fbf0a",
   "metadata": {},
   "outputs": [
    {
     "data": {
      "text/plain": [
       "(427, 30276)"
      ]
     },
     "execution_count": 13,
     "metadata": {},
     "output_type": "execute_result"
    }
   ],
   "source": [
    "test_data.shape"
   ]
  },
  {
   "cell_type": "code",
   "execution_count": 14,
   "id": "95d21d3b",
   "metadata": {},
   "outputs": [],
   "source": [
    "# 'bg-01','bg-02',\n",
    "from sklearn.model_selection import GridSearchCV, train_test_split"
   ]
  },
  {
   "cell_type": "code",
   "execution_count": 16,
   "id": "3f201586",
   "metadata": {},
   "outputs": [
    {
     "name": "stdout",
     "output_type": "stream",
     "text": [
      "(655, 200)\n",
      "(427, 200)\n"
     ]
    }
   ],
   "source": [
    "X_train = principal_df.iloc[:655,]\n",
    "X_test = principal_df.iloc[655:,]\n",
    "print(X_train.shape)\n",
    "print(X_test.shape)"
   ]
  },
  {
   "cell_type": "code",
   "execution_count": 17,
   "id": "cebb3ac5",
   "metadata": {},
   "outputs": [],
   "source": [
    "from sklearn.svm import LinearSVC\n",
    "from sklearn import svm, metrics\n",
    "from sklearn.preprocessing import LabelEncoder"
   ]
  },
  {
   "cell_type": "code",
   "execution_count": 19,
   "id": "ff64d7a6",
   "metadata": {
    "scrolled": false
   },
   "outputs": [
    {
     "name": "stdout",
     "output_type": "stream",
     "text": [
      "Training...... Support Vector Machine\n"
     ]
    },
    {
     "data": {
      "text/html": [
       "<style>#sk-container-id-1 {color: black;background-color: white;}#sk-container-id-1 pre{padding: 0;}#sk-container-id-1 div.sk-toggleable {background-color: white;}#sk-container-id-1 label.sk-toggleable__label {cursor: pointer;display: block;width: 100%;margin-bottom: 0;padding: 0.3em;box-sizing: border-box;text-align: center;}#sk-container-id-1 label.sk-toggleable__label-arrow:before {content: \"▸\";float: left;margin-right: 0.25em;color: #696969;}#sk-container-id-1 label.sk-toggleable__label-arrow:hover:before {color: black;}#sk-container-id-1 div.sk-estimator:hover label.sk-toggleable__label-arrow:before {color: black;}#sk-container-id-1 div.sk-toggleable__content {max-height: 0;max-width: 0;overflow: hidden;text-align: left;background-color: #f0f8ff;}#sk-container-id-1 div.sk-toggleable__content pre {margin: 0.2em;color: black;border-radius: 0.25em;background-color: #f0f8ff;}#sk-container-id-1 input.sk-toggleable__control:checked~div.sk-toggleable__content {max-height: 200px;max-width: 100%;overflow: auto;}#sk-container-id-1 input.sk-toggleable__control:checked~label.sk-toggleable__label-arrow:before {content: \"▾\";}#sk-container-id-1 div.sk-estimator input.sk-toggleable__control:checked~label.sk-toggleable__label {background-color: #d4ebff;}#sk-container-id-1 div.sk-label input.sk-toggleable__control:checked~label.sk-toggleable__label {background-color: #d4ebff;}#sk-container-id-1 input.sk-hidden--visually {border: 0;clip: rect(1px 1px 1px 1px);clip: rect(1px, 1px, 1px, 1px);height: 1px;margin: -1px;overflow: hidden;padding: 0;position: absolute;width: 1px;}#sk-container-id-1 div.sk-estimator {font-family: monospace;background-color: #f0f8ff;border: 1px dotted black;border-radius: 0.25em;box-sizing: border-box;margin-bottom: 0.5em;}#sk-container-id-1 div.sk-estimator:hover {background-color: #d4ebff;}#sk-container-id-1 div.sk-parallel-item::after {content: \"\";width: 100%;border-bottom: 1px solid gray;flex-grow: 1;}#sk-container-id-1 div.sk-label:hover label.sk-toggleable__label {background-color: #d4ebff;}#sk-container-id-1 div.sk-serial::before {content: \"\";position: absolute;border-left: 1px solid gray;box-sizing: border-box;top: 0;bottom: 0;left: 50%;z-index: 0;}#sk-container-id-1 div.sk-serial {display: flex;flex-direction: column;align-items: center;background-color: white;padding-right: 0.2em;padding-left: 0.2em;position: relative;}#sk-container-id-1 div.sk-item {position: relative;z-index: 1;}#sk-container-id-1 div.sk-parallel {display: flex;align-items: stretch;justify-content: center;background-color: white;position: relative;}#sk-container-id-1 div.sk-item::before, #sk-container-id-1 div.sk-parallel-item::before {content: \"\";position: absolute;border-left: 1px solid gray;box-sizing: border-box;top: 0;bottom: 0;left: 50%;z-index: -1;}#sk-container-id-1 div.sk-parallel-item {display: flex;flex-direction: column;z-index: 1;position: relative;background-color: white;}#sk-container-id-1 div.sk-parallel-item:first-child::after {align-self: flex-end;width: 50%;}#sk-container-id-1 div.sk-parallel-item:last-child::after {align-self: flex-start;width: 50%;}#sk-container-id-1 div.sk-parallel-item:only-child::after {width: 0;}#sk-container-id-1 div.sk-dashed-wrapped {border: 1px dashed gray;margin: 0 0.4em 0.5em 0.4em;box-sizing: border-box;padding-bottom: 0.4em;background-color: white;}#sk-container-id-1 div.sk-label label {font-family: monospace;font-weight: bold;display: inline-block;line-height: 1.2em;}#sk-container-id-1 div.sk-label-container {text-align: center;}#sk-container-id-1 div.sk-container {/* jupyter's `normalize.less` sets `[hidden] { display: none; }` but bootstrap.min.css set `[hidden] { display: none !important; }` so we also need the `!important` here to be able to override the default hidden behavior on the sphinx rendered scikit-learn.org. See: https://github.com/scikit-learn/scikit-learn/issues/21755 */display: inline-block !important;position: relative;}#sk-container-id-1 div.sk-text-repr-fallback {display: none;}</style><div id=\"sk-container-id-1\" class=\"sk-top-container\"><div class=\"sk-text-repr-fallback\"><pre>LinearSVC()</pre><b>In a Jupyter environment, please rerun this cell to show the HTML representation or trust the notebook. <br />On GitHub, the HTML representation is unable to render, please try loading this page with nbviewer.org.</b></div><div class=\"sk-container\" hidden><div class=\"sk-item\"><div class=\"sk-estimator sk-toggleable\"><input class=\"sk-toggleable__control sk-hidden--visually\" id=\"sk-estimator-id-1\" type=\"checkbox\" checked><label for=\"sk-estimator-id-1\" class=\"sk-toggleable__label sk-toggleable__label-arrow\">LinearSVC</label><div class=\"sk-toggleable__content\"><pre>LinearSVC()</pre></div></div></div></div></div>"
      ],
      "text/plain": [
       "LinearSVC()"
      ]
     },
     "execution_count": 19,
     "metadata": {},
     "output_type": "execute_result"
    }
   ],
   "source": [
    "model = LinearSVC()\n",
    "print('Training...... Support Vector Machine')\n",
    "model.fit(X_train,train_labels)"
   ]
  },
  {
   "cell_type": "code",
   "execution_count": 20,
   "id": "0e322d67",
   "metadata": {},
   "outputs": [],
   "source": [
    "pred = model.predict(X_test)"
   ]
  },
  {
   "cell_type": "code",
   "execution_count": 21,
   "id": "6e3184b9",
   "metadata": {},
   "outputs": [
    {
     "data": {
      "text/plain": [
       "0.8126463700234192"
      ]
     },
     "execution_count": 21,
     "metadata": {},
     "output_type": "execute_result"
    }
   ],
   "source": [
    "metrics.accuracy_score(pred,test_labels)"
   ]
  },
  {
   "cell_type": "code",
   "execution_count": 43,
   "id": "e6775a5b",
   "metadata": {},
   "outputs": [
    {
     "data": {
      "text/plain": [
       "0.8162756598240468"
      ]
     },
     "execution_count": 43,
     "metadata": {},
     "output_type": "execute_result"
    }
   ],
   "source": [
    "metrics.precision_score(pred,test_labels,average=\"macro\", sample_weight=None)"
   ]
  },
  {
   "cell_type": "code",
   "execution_count": 44,
   "id": "da282c86",
   "metadata": {},
   "outputs": [
    {
     "data": {
      "text/plain": [
       "0.8320036683854755"
      ]
     },
     "execution_count": 44,
     "metadata": {},
     "output_type": "execute_result"
    }
   ],
   "source": [
    "metrics.recall_score(pred,test_labels,average=\"macro\", sample_weight=None)"
   ]
  },
  {
   "cell_type": "code",
   "execution_count": 45,
   "id": "850d5ef4",
   "metadata": {},
   "outputs": [
    {
     "data": {
      "text/plain": [
       "0.8151612448122745"
      ]
     },
     "execution_count": 45,
     "metadata": {},
     "output_type": "execute_result"
    }
   ],
   "source": [
    "metrics.f1_score(pred,test_labels,average=\"macro\", sample_weight=None)"
   ]
  },
  {
   "cell_type": "code",
   "execution_count": 22,
   "id": "05cc1ed8",
   "metadata": {},
   "outputs": [],
   "source": [
    "from sklearn.ensemble import RandomForestClassifier"
   ]
  },
  {
   "cell_type": "code",
   "execution_count": 23,
   "id": "9f66fcaf",
   "metadata": {},
   "outputs": [
    {
     "data": {
      "text/html": [
       "<style>#sk-container-id-2 {color: black;background-color: white;}#sk-container-id-2 pre{padding: 0;}#sk-container-id-2 div.sk-toggleable {background-color: white;}#sk-container-id-2 label.sk-toggleable__label {cursor: pointer;display: block;width: 100%;margin-bottom: 0;padding: 0.3em;box-sizing: border-box;text-align: center;}#sk-container-id-2 label.sk-toggleable__label-arrow:before {content: \"▸\";float: left;margin-right: 0.25em;color: #696969;}#sk-container-id-2 label.sk-toggleable__label-arrow:hover:before {color: black;}#sk-container-id-2 div.sk-estimator:hover label.sk-toggleable__label-arrow:before {color: black;}#sk-container-id-2 div.sk-toggleable__content {max-height: 0;max-width: 0;overflow: hidden;text-align: left;background-color: #f0f8ff;}#sk-container-id-2 div.sk-toggleable__content pre {margin: 0.2em;color: black;border-radius: 0.25em;background-color: #f0f8ff;}#sk-container-id-2 input.sk-toggleable__control:checked~div.sk-toggleable__content {max-height: 200px;max-width: 100%;overflow: auto;}#sk-container-id-2 input.sk-toggleable__control:checked~label.sk-toggleable__label-arrow:before {content: \"▾\";}#sk-container-id-2 div.sk-estimator input.sk-toggleable__control:checked~label.sk-toggleable__label {background-color: #d4ebff;}#sk-container-id-2 div.sk-label input.sk-toggleable__control:checked~label.sk-toggleable__label {background-color: #d4ebff;}#sk-container-id-2 input.sk-hidden--visually {border: 0;clip: rect(1px 1px 1px 1px);clip: rect(1px, 1px, 1px, 1px);height: 1px;margin: -1px;overflow: hidden;padding: 0;position: absolute;width: 1px;}#sk-container-id-2 div.sk-estimator {font-family: monospace;background-color: #f0f8ff;border: 1px dotted black;border-radius: 0.25em;box-sizing: border-box;margin-bottom: 0.5em;}#sk-container-id-2 div.sk-estimator:hover {background-color: #d4ebff;}#sk-container-id-2 div.sk-parallel-item::after {content: \"\";width: 100%;border-bottom: 1px solid gray;flex-grow: 1;}#sk-container-id-2 div.sk-label:hover label.sk-toggleable__label {background-color: #d4ebff;}#sk-container-id-2 div.sk-serial::before {content: \"\";position: absolute;border-left: 1px solid gray;box-sizing: border-box;top: 0;bottom: 0;left: 50%;z-index: 0;}#sk-container-id-2 div.sk-serial {display: flex;flex-direction: column;align-items: center;background-color: white;padding-right: 0.2em;padding-left: 0.2em;position: relative;}#sk-container-id-2 div.sk-item {position: relative;z-index: 1;}#sk-container-id-2 div.sk-parallel {display: flex;align-items: stretch;justify-content: center;background-color: white;position: relative;}#sk-container-id-2 div.sk-item::before, #sk-container-id-2 div.sk-parallel-item::before {content: \"\";position: absolute;border-left: 1px solid gray;box-sizing: border-box;top: 0;bottom: 0;left: 50%;z-index: -1;}#sk-container-id-2 div.sk-parallel-item {display: flex;flex-direction: column;z-index: 1;position: relative;background-color: white;}#sk-container-id-2 div.sk-parallel-item:first-child::after {align-self: flex-end;width: 50%;}#sk-container-id-2 div.sk-parallel-item:last-child::after {align-self: flex-start;width: 50%;}#sk-container-id-2 div.sk-parallel-item:only-child::after {width: 0;}#sk-container-id-2 div.sk-dashed-wrapped {border: 1px dashed gray;margin: 0 0.4em 0.5em 0.4em;box-sizing: border-box;padding-bottom: 0.4em;background-color: white;}#sk-container-id-2 div.sk-label label {font-family: monospace;font-weight: bold;display: inline-block;line-height: 1.2em;}#sk-container-id-2 div.sk-label-container {text-align: center;}#sk-container-id-2 div.sk-container {/* jupyter's `normalize.less` sets `[hidden] { display: none; }` but bootstrap.min.css set `[hidden] { display: none !important; }` so we also need the `!important` here to be able to override the default hidden behavior on the sphinx rendered scikit-learn.org. See: https://github.com/scikit-learn/scikit-learn/issues/21755 */display: inline-block !important;position: relative;}#sk-container-id-2 div.sk-text-repr-fallback {display: none;}</style><div id=\"sk-container-id-2\" class=\"sk-top-container\"><div class=\"sk-text-repr-fallback\"><pre>RandomForestClassifier(criterion=&#x27;entropy&#x27;)</pre><b>In a Jupyter environment, please rerun this cell to show the HTML representation or trust the notebook. <br />On GitHub, the HTML representation is unable to render, please try loading this page with nbviewer.org.</b></div><div class=\"sk-container\" hidden><div class=\"sk-item\"><div class=\"sk-estimator sk-toggleable\"><input class=\"sk-toggleable__control sk-hidden--visually\" id=\"sk-estimator-id-2\" type=\"checkbox\" checked><label for=\"sk-estimator-id-2\" class=\"sk-toggleable__label sk-toggleable__label-arrow\">RandomForestClassifier</label><div class=\"sk-toggleable__content\"><pre>RandomForestClassifier(criterion=&#x27;entropy&#x27;)</pre></div></div></div></div></div>"
      ],
      "text/plain": [
       "RandomForestClassifier(criterion='entropy')"
      ]
     },
     "execution_count": 23,
     "metadata": {},
     "output_type": "execute_result"
    }
   ],
   "source": [
    "rf = RandomForestClassifier(criterion='entropy')   \n",
    "rf.fit(X_train,train_labels)"
   ]
  },
  {
   "cell_type": "code",
   "execution_count": 24,
   "id": "a2e5eb75",
   "metadata": {},
   "outputs": [],
   "source": [
    "pred2 = rf.predict(X_test)"
   ]
  },
  {
   "cell_type": "code",
   "execution_count": 25,
   "id": "f8d99aaf",
   "metadata": {},
   "outputs": [
    {
     "data": {
      "text/plain": [
       "0.7892271662763466"
      ]
     },
     "execution_count": 25,
     "metadata": {},
     "output_type": "execute_result"
    }
   ],
   "source": [
    "metrics.accuracy_score(pred2,test_labels)"
   ]
  },
  {
   "cell_type": "code",
   "execution_count": 34,
   "id": "c5a915b2",
   "metadata": {},
   "outputs": [
    {
     "data": {
      "text/plain": [
       "0.7954545454545453"
      ]
     },
     "execution_count": 34,
     "metadata": {},
     "output_type": "execute_result"
    }
   ],
   "source": [
    "metrics.precision_score(pred2,test_labels,average=\"macro\", sample_weight=None)"
   ]
  },
  {
   "cell_type": "code",
   "execution_count": 35,
   "id": "64a05c24",
   "metadata": {},
   "outputs": [
    {
     "data": {
      "text/plain": [
       "0.8095106009947755"
      ]
     },
     "execution_count": 35,
     "metadata": {},
     "output_type": "execute_result"
    }
   ],
   "source": [
    "metrics.recall_score(pred2,test_labels,average=\"macro\", sample_weight=None)"
   ]
  },
  {
   "cell_type": "code",
   "execution_count": 40,
   "id": "e2abf0fa",
   "metadata": {},
   "outputs": [
    {
     "data": {
      "text/plain": [
       "0.7915457717364183"
      ]
     },
     "execution_count": 40,
     "metadata": {},
     "output_type": "execute_result"
    }
   ],
   "source": [
    "metrics.f1_score(pred2,test_labels,average=\"macro\", sample_weight=None)"
   ]
  },
  {
   "cell_type": "code",
   "execution_count": 26,
   "id": "83084a0f",
   "metadata": {},
   "outputs": [],
   "source": [
    "from sklearn.neighbors import KNeighborsClassifier"
   ]
  },
  {
   "cell_type": "code",
   "execution_count": 46,
   "id": "14ae62c4",
   "metadata": {},
   "outputs": [
    {
     "name": "stdout",
     "output_type": "stream",
     "text": [
      "0.8618266978922716\n",
      "0.8659090909090909\n",
      "0.8788372589978838\n",
      "0.8607180327398712\n"
     ]
    }
   ],
   "source": [
    "KNN = KNeighborsClassifier(n_neighbors = 5)\n",
    "KNN.fit(X_train,train_labels)\n",
    "pred3 = KNN.predict(X_test)\n",
    "accuracy = metrics.accuracy_score(pred3,test_labels)\n",
    "precision = metrics.precision_score(pred3,test_labels,average=\"macro\", sample_weight=None)\n",
    "recall = metrics.recall_score(pred3,test_labels,average=\"macro\", sample_weight=None)\n",
    "f1_score = metrics.f1_score(pred3,test_labels,average=\"macro\", sample_weight=None)\n",
    "print(accuracy)\n",
    "print(precision)\n",
    "print(recall)\n",
    "print(f1_score)"
   ]
  },
  {
   "cell_type": "code",
   "execution_count": 28,
   "id": "46d1a54b",
   "metadata": {},
   "outputs": [],
   "source": [
    "# KNN = KNeighborsClassifier(n_neighbors = 10)\n",
    "# KNN.fit(X_train,train_labels)"
   ]
  },
  {
   "cell_type": "code",
   "execution_count": 29,
   "id": "e8b2bc7f",
   "metadata": {},
   "outputs": [],
   "source": [
    "# pred3 = KNN.predict(X_test)"
   ]
  },
  {
   "cell_type": "code",
   "execution_count": 30,
   "id": "6385f5f0",
   "metadata": {},
   "outputs": [],
   "source": [
    "# metrics.accuracy_score(pred3,test_labels)"
   ]
  },
  {
   "cell_type": "code",
   "execution_count": null,
   "id": "211073ce",
   "metadata": {},
   "outputs": [],
   "source": []
  },
  {
   "cell_type": "code",
   "execution_count": null,
   "id": "fd48c5d1",
   "metadata": {},
   "outputs": [],
   "source": []
  },
  {
   "cell_type": "code",
   "execution_count": null,
   "id": "6255a8c2",
   "metadata": {},
   "outputs": [],
   "source": []
  },
  {
   "cell_type": "code",
   "execution_count": null,
   "id": "72c82edd",
   "metadata": {},
   "outputs": [],
   "source": []
  },
  {
   "cell_type": "code",
   "execution_count": null,
   "id": "0c726c2a",
   "metadata": {},
   "outputs": [],
   "source": []
  }
 ],
 "metadata": {
  "kernelspec": {
   "display_name": "Python 3 (ipykernel)",
   "language": "python",
   "name": "python3"
  },
  "language_info": {
   "codemirror_mode": {
    "name": "ipython",
    "version": 3
   },
   "file_extension": ".py",
   "mimetype": "text/x-python",
   "name": "python",
   "nbconvert_exporter": "python",
   "pygments_lexer": "ipython3",
   "version": "3.9.7"
  }
 },
 "nbformat": 4,
 "nbformat_minor": 5
}
